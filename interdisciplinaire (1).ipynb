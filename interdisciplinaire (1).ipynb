{
 "cells": [
  {
   "cell_type": "code",
   "execution_count": 39,
   "metadata": {},
   "outputs": [],
   "source": [
    "import numpy as np\n",
    "import pandas as pd\n",
    "import matplotlib.pyplot as plt\n",
    "import ggplot"
   ]
  },
  {
   "cell_type": "code",
   "execution_count": 40,
   "metadata": {},
   "outputs": [
    {
     "name": "stdout",
     "output_type": "stream",
     "text": [
      "data_df shape: (75, 84)\n"
     ]
    }
   ],
   "source": [
    "data_df = pd.read_csv('data.csv', nrows=None).iloc[:, 1:]\n",
    "print('data_df shape:', data_df.shape)"
   ]
  },
  {
   "cell_type": "code",
   "execution_count": 41,
   "metadata": {},
   "outputs": [
    {
     "name": "stdout",
     "output_type": "stream",
     "text": [
      "X shape: (75, 83), y shape: (75,)\n"
     ]
    }
   ],
   "source": [
    "X, y = data_df.drop('target', axis=1), data_df['target']\n",
    "print('X shape: {}, y shape: {}'.format(X.shape, y.shape))\n"
   ]
  },
  {
   "cell_type": "code",
   "execution_count": 42,
   "metadata": {},
   "outputs": [
    {
     "name": "stdout",
     "output_type": "stream",
     "text": [
      "X_train shape: (48, 83), X_val shape: (12, 83), X_test shape: (15, 83)\n"
     ]
    }
   ],
   "source": [
    "from sklearn.model_selection import train_test_split\n",
    "\n",
    "X_train_val, X_test, y_train_val, y_test = train_test_split(X, y, test_size=0.2, stratify=y, random_state=42)\n",
    "X_train, X_val, y_train, y_val = train_test_split(X_train_val, y_train_val, test_size=0.2, stratify=y_train_val, random_state=42)\n",
    "print('X_train shape: {}, X_val shape: {}, X_test shape: {}'.format(X_train.shape, X_val.shape, X_test.shape))\n"
   ]
  },
  {
   "cell_type": "code",
   "execution_count": 43,
   "metadata": {},
   "outputs": [],
   "source": [
    "from sklearn.ensemble import RandomForestClassifier\n",
    "\n",
    "random_forest = RandomForestClassifier(n_estimators=10)\n"
   ]
  },
  {
   "cell_type": "code",
   "execution_count": 44,
   "metadata": {},
   "outputs": [
    {
     "name": "stdout",
     "output_type": "stream",
     "text": [
      "Train score: 1.0000\n",
      "                precision    recall  f1-score   support\n",
      "\n",
      "palais_justice     1.0000    1.0000    1.0000        15\n",
      "    place_ange     1.0000    1.0000    1.0000        13\n",
      "  saint_aubain     1.0000    1.0000    1.0000        14\n",
      "       theatre     1.0000    1.0000    1.0000         6\n",
      "\n",
      "     micro avg     1.0000    1.0000    1.0000        48\n",
      "     macro avg     1.0000    1.0000    1.0000        48\n",
      "  weighted avg     1.0000    1.0000    1.0000        48\n",
      "\n",
      "Validation score: 1.0000\n",
      "                precision    recall  f1-score   support\n",
      "\n",
      "palais_justice     1.0000    1.0000    1.0000         4\n",
      "    place_ange     1.0000    1.0000    1.0000         3\n",
      "  saint_aubain     1.0000    1.0000    1.0000         4\n",
      "       theatre     1.0000    1.0000    1.0000         1\n",
      "\n",
      "     micro avg     1.0000    1.0000    1.0000        12\n",
      "     macro avg     1.0000    1.0000    1.0000        12\n",
      "  weighted avg     1.0000    1.0000    1.0000        12\n",
      "\n"
     ]
    }
   ],
   "source": [
    "from sklearn.metrics import classification_report\n",
    "\n",
    "random_forest.fit(X_train, y_train)\n",
    "print('Train score: {:.4f}'.format(random_forest.score(X_train, y_train)))\n",
    "print(classification_report(y_train, random_forest.predict(X_train), digits=4))\n",
    "print('Validation score: {:.4f}'.format(random_forest.score(X_val, y_val)))\n",
    "print(classification_report(y_val, random_forest.predict(X_val), digits=4))\n"
   ]
  },
  {
   "cell_type": "code",
   "execution_count": 45,
   "metadata": {},
   "outputs": [],
   "source": [
    "from sklearn.neighbors import KNeighborsClassifier\n",
    "\n",
    "knn = KNeighborsClassifier(n_neighbors=5)\n"
   ]
  },
  {
   "cell_type": "code",
   "execution_count": 46,
   "metadata": {},
   "outputs": [
    {
     "name": "stdout",
     "output_type": "stream",
     "text": [
      "Train score: 0.9375\n",
      "                precision    recall  f1-score   support\n",
      "\n",
      "palais_justice     0.8750    0.9333    0.9032        15\n",
      "    place_ange     1.0000    0.9231    0.9600        13\n",
      "  saint_aubain     1.0000    1.0000    1.0000        14\n",
      "       theatre     0.8333    0.8333    0.8333         6\n",
      "\n",
      "     micro avg     0.9375    0.9375    0.9375        48\n",
      "     macro avg     0.9271    0.9224    0.9241        48\n",
      "  weighted avg     0.9401    0.9375    0.9381        48\n",
      "\n",
      "Validation score: 1.0000\n",
      "                precision    recall  f1-score   support\n",
      "\n",
      "palais_justice     1.0000    1.0000    1.0000         4\n",
      "    place_ange     1.0000    1.0000    1.0000         3\n",
      "  saint_aubain     1.0000    1.0000    1.0000         4\n",
      "       theatre     1.0000    1.0000    1.0000         1\n",
      "\n",
      "     micro avg     1.0000    1.0000    1.0000        12\n",
      "     macro avg     1.0000    1.0000    1.0000        12\n",
      "  weighted avg     1.0000    1.0000    1.0000        12\n",
      "\n"
     ]
    }
   ],
   "source": [
    "from sklearn.metrics import classification_report\n",
    "\n",
    "knn.fit(X_train, y_train)\n",
    "print('Train score: {:.4f}'.format(knn.score(X_train, y_train)))\n",
    "print(classification_report(y_train, knn.predict(X_train), digits=4))\n",
    "print('Validation score: {:.4f}'.format(knn.score(X_val, y_val)))\n",
    "print(classification_report(y_val, knn.predict(X_val), digits=4))\n"
   ]
  },
  {
   "cell_type": "code",
   "execution_count": 78,
   "metadata": {},
   "outputs": [],
   "source": [
    "from sklearn.tree import DecisionTreeClassifier\n",
    "\n",
    "decision_tree = DecisionTreeClassifier(max_depth=20)\n"
   ]
  },
  {
   "cell_type": "code",
   "execution_count": 79,
   "metadata": {},
   "outputs": [
    {
     "name": "stdout",
     "output_type": "stream",
     "text": [
      "Train score: 1.0000\n",
      "                precision    recall  f1-score   support\n",
      "\n",
      "palais_justice     1.0000    1.0000    1.0000        15\n",
      "    place_ange     1.0000    1.0000    1.0000        13\n",
      "  saint_aubain     1.0000    1.0000    1.0000        14\n",
      "       theatre     1.0000    1.0000    1.0000         6\n",
      "\n",
      "     micro avg     1.0000    1.0000    1.0000        48\n",
      "     macro avg     1.0000    1.0000    1.0000        48\n",
      "  weighted avg     1.0000    1.0000    1.0000        48\n",
      "\n",
      "Validation score: 1.0000\n",
      "                precision    recall  f1-score   support\n",
      "\n",
      "palais_justice     1.0000    1.0000    1.0000         4\n",
      "    place_ange     1.0000    1.0000    1.0000         3\n",
      "  saint_aubain     1.0000    1.0000    1.0000         4\n",
      "       theatre     1.0000    1.0000    1.0000         1\n",
      "\n",
      "     micro avg     1.0000    1.0000    1.0000        12\n",
      "     macro avg     1.0000    1.0000    1.0000        12\n",
      "  weighted avg     1.0000    1.0000    1.0000        12\n",
      "\n"
     ]
    }
   ],
   "source": [
    "from sklearn.metrics import classification_report\n",
    "\n",
    "decision_tree.fit(X_train, y_train)\n",
    "print('Train score: {:.4f}'.format(decision_tree.score(X_train, y_train)))\n",
    "print(classification_report(y_train, decision_tree.predict(X_train), digits=4))\n",
    "print('Validation score: {:.4f}'.format(decision_tree.score(X_val, y_val)))\n",
    "print(classification_report(y_val, decision_tree.predict(X_val), digits=4))\n"
   ]
  },
  {
   "cell_type": "code",
   "execution_count": 111,
   "metadata": {},
   "outputs": [],
   "source": [
    "def DT_to_PNG(model, feature_names, file_name):\n",
    "    \"\"\" Exports a DT to a PNG image file for inspection.\n",
    "    \n",
    "    Parameters\n",
    "    ----------\n",
    "        - model: a decision tree (class sklearn.tree.DecisionTreeClassifier)\n",
    "        - feature_names: a list of feature names\n",
    "        - file_name: name of file to be produced (without '.png' extension)\n",
    "    \n",
    "    Notes\n",
    "    -----\n",
    "    This function requires the pydot Python package and the Graphviz library.\n",
    "    \n",
    "    For more information about tree export, see http://scikit-learn.org/stable/\n",
    "    modules/generated/sklearn.tree.export_graphviz.html#sklearn.tree.export_graphviz\n",
    "    \n",
    "    \"\"\"\n",
    "\n",
    "    import pydot\n",
    "    import string\n",
    "    from sklearn import tree\n",
    "    from sklearn.externals.six import StringIO\n",
    "    from IPython.display import SVG\n",
    "    from IPython.display import display\n",
    "\n",
    "        \n",
    "    dot_data = StringIO()\n",
    "    tree.export_graphviz(model, out_file=dot_data, feature_names=feature_names, class_names=feature_names, filled = True)\n",
    "    graph = pydot.graph_from_dot_data(dot_data.getvalue())[0]\n",
    "    graph.write_png('%s.png' % file_name)\n",
    "    "
   ]
  },
  {
   "cell_type": "code",
   "execution_count": 114,
   "metadata": {},
   "outputs": [],
   "source": [
    "import datetime\n",
    "\n",
    "features = list(data_df.columns)\n",
    "features.remove('target')\n",
    "DT_to_PNG(decision_tree,features, \"image_\" + str(datetime.datetime.now()))"
   ]
  },
  {
   "cell_type": "code",
   "execution_count": null,
   "metadata": {},
   "outputs": [],
   "source": []
  },
  {
   "cell_type": "code",
   "execution_count": 115,
   "metadata": {},
   "outputs": [],
   "source": [
    "decision_tree2 = DecisionTreeClassifier(max_depth=20)\n",
    "decision_tree2.fit(X, y)\n",
    "DT_to_PNG(decision_tree2,features,  \"image_\" + str(datetime.datetime.now()))"
   ]
  },
  {
   "cell_type": "code",
   "execution_count": null,
   "metadata": {},
   "outputs": [],
   "source": []
  }
 ],
 "metadata": {
  "kernelspec": {
   "display_name": "Python 3",
   "language": "python",
   "name": "python3"
  },
  "language_info": {
   "codemirror_mode": {
    "name": "ipython",
    "version": 3
   },
   "file_extension": ".py",
   "mimetype": "text/x-python",
   "name": "python",
   "nbconvert_exporter": "python",
   "pygments_lexer": "ipython3",
   "version": "3.6.6"
  }
 },
 "nbformat": 4,
 "nbformat_minor": 2
}
