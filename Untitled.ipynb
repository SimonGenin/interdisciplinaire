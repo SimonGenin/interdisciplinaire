{
 "cells": [
  {
   "cell_type": "code",
   "execution_count": 98,
   "metadata": {},
   "outputs": [],
   "source": [
    "import io\n",
    "import os\n",
    "\n",
    "# Imports the Google Cloud client library\n",
    "from google.cloud import vision\n",
    "from google.cloud.vision import types\n",
    "\n",
    "def setUpEnv():\n",
    "    os.environ[\"GOOGLE_APPLICATION_CREDENTIALS\"] = \"creds.json\"\n",
    "    client = vision.ImageAnnotatorClient()\n",
    "    return client\n",
    "\n",
    "def getImagePaths(folder = 'images'):\n",
    "    filenames = os.listdir(folder)\n",
    "    paths = [ filename for filename in filenames if filename.endswith('.jpg') or filename.endswith('.png') ]\n",
    "    paths = [ './' + folder + '/' + filename for filename in paths ]\n",
    "    return paths\n",
    "\n",
    "def readFileContentAsImage(imagePath):\n",
    "    with io.open(file_name, 'rb') as image_file:\n",
    "        content = image_file.read()\n",
    "    return types.Image(content=content)\n",
    "\n",
    "def makeRequest(image):\n",
    "    return {\n",
    "      'image': image,\n",
    "      'features': [\n",
    "          {'type': vision.enums.Feature.Type.LABEL_DETECTION, 'max_results': 30},\n",
    "          {'type': vision.enums.Feature.Type.TEXT_DETECTION},\n",
    "          {'type': vision.enums.Feature.Type.IMAGE_PROPERTIES}\n",
    "      ],\n",
    "    }\n",
    "    \n",
    "\n",
    "def makeRequestBatch(paths):\n",
    "    requests = []\n",
    "    for path in paths:\n",
    "        img = readFileContentAsImage(path)\n",
    "        req = makeRequest(img)\n",
    "        requests.append(req)\n",
    "    return requests"
   ]
  },
  {
   "cell_type": "code",
   "execution_count": null,
   "metadata": {},
   "outputs": [],
   "source": [
    "requests = makeRequestBatch(getImagePaths())\n",
    "requests"
   ]
  },
  {
   "cell_type": "code",
   "execution_count": 94,
   "metadata": {},
   "outputs": [],
   "source": [
    "response = client.batch_annotate_images(requests)\n",
    "response"
   ]
  },
  {
   "cell_type": "code",
   "execution_count": null,
   "metadata": {},
   "outputs": [],
   "source": []
  }
 ],
 "metadata": {
  "kernelspec": {
   "display_name": "Python 3",
   "language": "python",
   "name": "python3"
  },
  "language_info": {
   "codemirror_mode": {
    "name": "ipython",
    "version": 3
   },
   "file_extension": ".py",
   "mimetype": "text/x-python",
   "name": "python",
   "nbconvert_exporter": "python",
   "pygments_lexer": "ipython3",
   "version": "3.6.6"
  }
 },
 "nbformat": 4,
 "nbformat_minor": 2
}
